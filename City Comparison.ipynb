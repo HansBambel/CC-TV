{
 "cells": [
  {
   "cell_type": "code",
   "execution_count": 9,
   "metadata": {},
   "outputs": [],
   "source": [
    "import geopandas\n",
    "import urllib\n",
    "import shapely\n",
    "import matplotlib.pyplot as plt\n",
    "from math import sin, cos, sqrt, atan2, radians\n",
    "import json\n",
    "from PIL import Image\n",
    "from dotenv import load_dotenv\n",
    "import os\n",
    "import pandas as pd\n",
    "\n",
    "load_dotenv()\n",
    "\n",
    "def getDistance(lat1, lon1, lat2, lon2):\n",
    "    R = 6373.0\n",
    "    lat1 = radians(lat1)\n",
    "    lon1 = radians(lon1)\n",
    "    lat2 = radians(lat2)\n",
    "    lon2 = radians(lon2)\n",
    "\n",
    "    dlon = lon2 - lon1\n",
    "    dlat = lat2 - lat1\n",
    "\n",
    "    a = sin(dlat / 2)**2 + cos(lat1) * cos(lat2) * sin(dlon / 2)**2\n",
    "    c = 2 * atan2(sqrt(a), sqrt(1 - a))\n",
    "\n",
    "    distance = R * c\n",
    "    return distance"
   ]
  },
  {
   "cell_type": "markdown",
   "metadata": {},
   "source": [
    "## Using Google Maps and GADM database"
   ]
  },
  {
   "cell_type": "code",
   "execution_count": 2,
   "metadata": {},
   "outputs": [
    {
     "name": "stdout",
     "output_type": "stream",
     "text": [
      "Index(['UID', 'GID_0', 'ID_0', 'NAME_0', 'GID_1', 'ID_1', 'NAME_1',\n",
      "       'VARNAME_1', 'NL_NAME_1', 'HASC_1', 'CC_1', 'TYPE_1', 'ENGTYPE_1',\n",
      "       'VALIDFR_1', 'VALIDTO_1', 'REMARKS_1', 'GID_2', 'ID_2', 'NAME_2',\n",
      "       'VARNAME_2', 'NL_NAME_2', 'HASC_2', 'CC_2', 'TYPE_2', 'ENGTYPE_2',\n",
      "       'VALIDFR_2', 'VALIDTO_2', 'REMARKS_2', 'GID_3', 'ID_3', 'NAME_3',\n",
      "       'VARNAME_3', 'NL_NAME_3', 'HASC_3', 'CC_3', 'TYPE_3', 'ENGTYPE_3',\n",
      "       'VALIDFR_3', 'VALIDTO_3', 'REMARKS_3', 'GID_4', 'ID_4', 'NAME_4',\n",
      "       'VARNAME_4', 'CC_4', 'TYPE_4', 'ENGTYPE_4', 'VALIDFR_4', 'VALIDTO_4',\n",
      "       'REMARKS_4', 'GID_5', 'ID_5', 'NAME_5', 'CC_5', 'TYPE_5', 'ENGTYPE_5',\n",
      "       'REGION', 'VARREGION', 'zone', 'geometry'],\n",
      "      dtype='object')\n"
     ]
    }
   ],
   "source": [
    "world = geopandas.read_file(\"gadm36.gpkg\")\n",
    "print(world.columns)"
   ]
  },
  {
   "cell_type": "code",
   "execution_count": 3,
   "metadata": {},
   "outputs": [],
   "source": [
    "\n",
    "def staticmap(location, size=\"500x400\", maptype=\"terrain\", scale=2, zoom=10):\n",
    "    maps_key = os.getenv(\"GOOGLE_MAPS_API\")\n",
    "    staticmap_base_url = 'https://maps.googleapis.com/maps/api/staticmap'\n",
    "    \n",
    "    # Get the city's name if given such as \"Maastricht, NL\"\n",
    "    city = location.split(\",\")[0]\n",
    "#     if len(location.split(\",\")) > 1:\n",
    "#         country = location.split(\",\")[1]\n",
    "#         cityData = world[(world[\"NAME_2\"]==city) & (world[\"NAME_0\"]==country)]\n",
    "#     else:\n",
    "    cityData = world[world[\"NAME_2\"]==city]\n",
    "    \n",
    "    print(cityData[[\"NAME_0\", \"NAME_1\",\"NAME_2\",\"NAME_3\",\"geometry\"]])\n",
    "    for x in cityData[\"geometry\"]:\n",
    "        tolerance = 0.0001\n",
    "        pathTooLong = True\n",
    "        while pathTooLong:\n",
    "            if isinstance(x, shapely.geometry.Polygon):\n",
    "                coords_list = list(x.exterior.coords)\n",
    "            else:\n",
    "                coords_list = list(x.geoms[0].exterior.coords)\n",
    "\n",
    "            pathCode = \"color:0x0000ff80|weight:1|geodesic:true|fillcolor:0x0000ff80\"\n",
    "            for lat,long in coords_list:\n",
    "                pathCode = f\"{pathCode}|{long},{lat}\"\n",
    "#             print(\"PathCode length\",len(pathCode))\n",
    "            \n",
    "            # Instead of zoom or center give marker of top left and bottom right (x.bounds)\n",
    "            # Then image fits perfectly\n",
    "            lat1, long1, lat2, long2 = x.bounds\n",
    "            distance = getDistance(lat1, long1, lat2, long2)\n",
    "#             markerCode = f\"size:tiny|{x.bounds[3]},{x.bounds[0]}|{x.bounds[1]},{x.bounds[2]}\"\n",
    "            markerCode = f\"size:tiny|{long2},{lat1}|{long1},{lat2}\"\n",
    "            \n",
    "            # This joins the parts of the URL together into one string.\n",
    "            url = staticmap_base_url + '?' + urllib.parse.urlencode({\n",
    "                \"center\": location,\n",
    "                \"size\": size,\n",
    "                \"maptype\": maptype,\n",
    "                \"scale\": scale,\n",
    "#                 \"zoom\": zoom,\n",
    "                \"key\": maps_key,\n",
    "                \"markers\": markerCode,\n",
    "                \"path\": pathCode\n",
    "            })\n",
    "            # URLs for all web services are limited to 8192 characters!!\n",
    "            if len(url) > 8192:\n",
    "                tolerance += 0.0001\n",
    "                x = x.simplify(tolerance, preserve_topology=False)\n",
    "            else:\n",
    "                pathTooLong = False\n",
    "    \n",
    "#             print(\"URL length: \",len(url))\n",
    "    \n",
    "    image = urllib.request.urlopen(url).read()\n",
    "    return image, distance"
   ]
  },
  {
   "cell_type": "code",
   "execution_count": 4,
   "metadata": {
    "scrolled": false
   },
   "outputs": [
    {
     "name": "stdout",
     "output_type": "stream",
     "text": [
      "             NAME_0         NAME_1     NAME_2 NAME_3  \\\n",
      "212707  Netherlands  Noord-Holland  Amsterdam   None   \n",
      "\n",
      "                                                 geometry  \n",
      "212707  MULTIPOLYGON (((5.01650 52.34405, 5.01211 52.3...  \n",
      "Distance 41.48240496036253\n"
     ]
    }
   ],
   "source": [
    "location = \"Amsterdam\"\n",
    "citymap, distance = staticmap(location)\n",
    "print(\"Distance\", distance)\n",
    "with open(\"citymap.png\", \"wb\") as f:\n",
    "    f.write(citymap)\n",
    "# plt.imshow(citymap)"
   ]
  },
  {
   "cell_type": "markdown",
   "metadata": {},
   "source": [
    "## Use OpenStreetMap API"
   ]
  },
  {
   "cell_type": "code",
   "execution_count": 2,
   "metadata": {},
   "outputs": [],
   "source": [
    "query = \"Kassel, Germany\"\n",
    "openStreetMap_base_url = \"https://nominatim.openstreetmap.org/search\"\n",
    "url = openStreetMap_base_url + '?' + urllib.parse.urlencode({\n",
    "                \"q\": query,\n",
    "                \"format\": \"json\",\n",
    "                \"polygon_geojson\": 1\n",
    "            })\n",
    "\n",
    "response = urllib.request.urlopen(url).read()\n",
    "responseJson = json.loads(response)\n"
   ]
  },
  {
   "cell_type": "code",
   "execution_count": 3,
   "metadata": {
    "scrolled": false
   },
   "outputs": [
    {
     "name": "stdout",
     "output_type": "stream",
     "text": [
      "Distance:  27.18405004091734\n"
     ]
    },
    {
     "data": {
      "image/png": "[encoded data removed]",
      "text/plain": [
       "<Figure size 432x288 with 1 Axes>"
      ]
     },
     "metadata": {
      "needs_background": "light"
     },
     "output_type": "display_data"
    }
   ],
   "source": [
    "# find first multipolygon result (most likely the correct one)\n",
    "for shape in responseJson:\n",
    "    if isinstance(shapely.geometry.shape(shape[\"geojson\"]), shapely.geometry.MultiPolygon):\n",
    "        cityShape = shapely.geometry.shape(shape[\"geojson\"])\n",
    "        lat1, long1, lat2, long2 = cityShape.bounds\n",
    "        distance = getDistance(lat1, long1, lat2, long2)\n",
    "        break\n",
    "\n",
    "print(\"Distance: \", distance)\n",
    "cityGDF = geopandas.GeoDataFrame({\n",
    "    \"geometry\": cityShape\n",
    "}) \n",
    "cityGDF.plot()\n",
    "plt.axis(\"off\")\n",
    "plt.savefig(\"city.png\", transparent=True)\n",
    "# world[world[\"NAME_2\"]==\"Maastricht\"].plot()\n",
    "# Next: Get second image and scale according to size (distance of furthest points)"
   ]
  },
  {
   "cell_type": "code",
   "execution_count": 85,
   "metadata": {},
   "outputs": [],
   "source": [
    "def getCityOutline(query: str):\n",
    "    openStreetMap_base_url = \"https://nominatim.openstreetmap.org/search\"\n",
    "    url = openStreetMap_base_url + '?' + urllib.parse.urlencode({\n",
    "                    \"q\": query,\n",
    "                    \"format\": \"json\",\n",
    "                    \"polygon_geojson\": 1\n",
    "                })\n",
    "\n",
    "    response = urllib.request.urlopen(url).read()\n",
    "    responseJson = json.loads(response)\n",
    "    # find first multipolygon/polygon result (most likely the correct one)\n",
    "    for shape in responseJson:\n",
    "        if isinstance(shapely.geometry.shape(shape[\"geojson\"]), shapely.geometry.MultiPolygon):\n",
    "            cityShape = shapely.geometry.shape(shape[\"geojson\"])\n",
    "            lat1, long1, lat2, long2 = cityShape.bounds\n",
    "            distance = getDistance(lat1, long1, lat2, long2)\n",
    "            cityGDF = geopandas.GeoDataFrame({\n",
    "                \"geometry\": cityShape\n",
    "            })\n",
    "            return cityGDF, distance\n",
    "        elif isinstance(shapely.geometry.shape(shape[\"geojson\"]), shapely.geometry.Polygon):\n",
    "            cityShape = shapely.geometry.shape(shape[\"geojson\"])\n",
    "            lat1, long1, lat2, long2 = cityShape.bounds\n",
    "            distance = getDistance(lat1, long1, lat2, long2)\n",
    "            cityGDF = geopandas.GeoDataFrame({\n",
    "                \"geometry\": cityShape\n",
    "            }, index=[0])\n",
    "            return cityGDF, distance\n",
    "\n",
    "    \n",
    "\n",
    "    return cityGDF, distance\n",
    "\n",
    "def overlayCities(city1, size1, city2, size2):\n",
    "    if size1 > size2:\n",
    "        bigCity = city1\n",
    "        bigSize = size1\n",
    "        smallCity = city2\n",
    "        smallSize = size2\n",
    "    else:\n",
    "        bigCity = city2\n",
    "        bigSize = size2\n",
    "        smallCity = city1\n",
    "        smallSize = size1\n",
    "    # Save the cities as images\n",
    "    bigCity.plot(color=\"red\")\n",
    "    plt.axis(\"off\")\n",
    "    plt.savefig(\"BigCity.png\", transparent=True)\n",
    "    plt.close()\n",
    "    smallCity.plot(alpha=0.7)\n",
    "    plt.axis(\"off\")\n",
    "    plt.savefig(\"SmallCity.png\", transparent=True)\n",
    "    plt.close()\n",
    "    # Load images with Pillow\n",
    "    bigCityIm = Image.open(\"BigCity.png\")\n",
    "    smallCityIm = Image.open(\"SmallCity.png\")\n",
    "    oldWidth, oldHeight = smallCityIm.size\n",
    "    newWidth = int(oldWidth*smallSize/bigSize)\n",
    "    newHeight = int(oldHeight*smallSize/bigSize)\n",
    "    # Scale down the smaller city\n",
    "    smallCityImScaled = smallCityIm.resize((newWidth, newHeight))\n",
    "    # Find center of bigger city\n",
    "    bigCityWidth, bigCityHeight = bigCityIm.size\n",
    "    bigCenterW = int(bigCityWidth/2)\n",
    "    bigCenterH = int(bigCityHeight/2)\n",
    "    topLeftX = bigCenterW-int(newWidth/2)\n",
    "    topLeftY = bigCenterH-int(newHeight/2)\n",
    "    botRightX = bigCenterW+(newWidth-int(newWidth/2))\n",
    "    botRightY = bigCenterH+(newHeight-int(newHeight/2))\n",
    "    # Paste the small city onto the bigger one (the mask key-word reserves the transparency of the png)\n",
    "    bigCityIm.paste(smallCityImScaled, (topLeftX,topLeftY,botRightX,botRightY), mask=smallCityImScaled)\n",
    "    bigCityIm.save(\"Overlay.png\", \"png\")\n",
    "#     bigCityIm.show()\n",
    "    return bigCityIm"
   ]
  },
  {
   "cell_type": "code",
   "execution_count": 86,
   "metadata": {},
   "outputs": [],
   "source": [
    "city1Query = \"Paris\"\n",
    "city2Query = \"Kassel, Germany\"\n",
    "city1, size1 = getCityOutline(city1Query)\n",
    "city2, size2 = getCityOutline(city2Query)\n"
   ]
  },
  {
   "cell_type": "code",
   "execution_count": 87,
   "metadata": {},
   "outputs": [
    {
     "name": "stdout",
     "output_type": "stream",
     "text": [
      "Diagonal size of Paris: 28.9671458170161\n",
      "Diagonal size of Kassel, Germany: 27.18405004091734\n"
     ]
    }
   ],
   "source": [
    "overlay = overlayCities(city1, size1, city2, size2)\n",
    "overlay.show()\n",
    "print(f\"Diagonal size of {city1Query}: {size1}\")\n",
    "print(f\"Diagonal size of {city2Query}: {size2}\")"
   ]
  },
  {
   "cell_type": "code",
   "execution_count": null,
   "metadata": {},
   "outputs": [],
   "source": [
    "# TODO create a flask web service for this :D"
   ]
  }
 ],
 "metadata": {
  "kernelspec": {
   "display_name": "Python 3",
   "language": "python",
   "name": "python3"
  },
  "language_info": {
   "codemirror_mode": {
    "name": "ipython",
    "version": 3
   },
   "file_extension": ".py",
   "mimetype": "text/x-python",
   "name": "python",
   "nbconvert_exporter": "python",
   "pygments_lexer": "ipython3",
   "version": "3.6.8"
  }
 },
 "nbformat": 4,
 "nbformat_minor": 2
}
