{
 "cells": [
  {
   "cell_type": "code",
   "execution_count": 78,
   "metadata": {},
   "outputs": [
    {
     "data": {
      "text/plain": [
       "True"
      ]
     },
     "execution_count": 78,
     "metadata": {},
     "output_type": "execute_result"
    }
   ],
   "source": [
    "import geopandas\n",
    "import urllib\n",
    "from dotenv import load_dotenv\n",
    "import os\n",
    "import shapely\n",
    "import matplotlib.pyplot as plt\n",
    "\n",
    "load_dotenv()"
   ]
  },
  {
   "cell_type": "code",
   "execution_count": null,
   "metadata": {},
   "outputs": [],
   "source": [
    "world = geopandas.read_file(\"gadm36.gpkg\")"
   ]
  },
  {
   "cell_type": "code",
   "execution_count": 94,
   "metadata": {},
   "outputs": [],
   "source": [
    "\n",
    "def staticmap(location, size=\"500x400\", maptype=\"terrain\", scale=2, zoom=10, path=None):\n",
    "    # The maps_key defined below isn't a valid Google Maps API key.\n",
    "    # You need to get your own API key.\n",
    "    # See https://developers.google.com/maps/documentation/timezone/get-api-key\n",
    "    maps_key = os.getenv(\"GOOGLE_MAPS_API\")\n",
    "    staticmap_base_url = 'https://maps.googleapis.com/maps/api/staticmap'\n",
    "\n",
    "    # This joins the parts of the URL together into one string.\n",
    "    url = staticmap_base_url + '?' + urllib.parse.urlencode({\n",
    "        \"center\": location,\n",
    "        \"size\": size,\n",
    "        \"maptype\": maptype,\n",
    "        \"scale\": scale,\n",
    "        \"zoom\": zoom,\n",
    "        \"key\": maps_key,\n",
    "        \"path\": path\n",
    "    })\n",
    "\n",
    "    response = urllib.request.urlopen(url).read()\n",
    "    return response\n",
    "\n",
    "\n",
    "\n",
    "def getDistance(lat1, lon1, lat2, lon2):\n",
    "    lat1 = radians(lat1)\n",
    "    lon1 = radians(lon1)\n",
    "    lat2 = radians(lat2)\n",
    "    lon2 = radians(lon2)\n",
    "\n",
    "    dlon = lon2 - lon1\n",
    "    dlat = lat2 - lat1\n",
    "\n",
    "    a = sin(dlat / 2)**2 + cos(lat1) * cos(lat2) * sin(dlon / 2)**2\n",
    "    c = 2 * atan2(sqrt(a), sqrt(1 - a))\n",
    "\n",
    "    distance = R * c\n",
    "    return distance"
   ]
  },
  {
   "cell_type": "code",
   "execution_count": 99,
   "metadata": {},
   "outputs": [
    {
     "name": "stdout",
     "output_type": "stream",
     "text": [
      "Index(['UID', 'GID_0', 'ID_0', 'NAME_0', 'GID_1', 'ID_1', 'NAME_1',\n",
      "       'VARNAME_1', 'NL_NAME_1', 'HASC_1', 'CC_1', 'TYPE_1', 'ENGTYPE_1',\n",
      "       'VALIDFR_1', 'VALIDTO_1', 'REMARKS_1', 'GID_2', 'ID_2', 'NAME_2',\n",
      "       'VARNAME_2', 'NL_NAME_2', 'HASC_2', 'CC_2', 'TYPE_2', 'ENGTYPE_2',\n",
      "       'VALIDFR_2', 'VALIDTO_2', 'REMARKS_2', 'GID_3', 'ID_3', 'NAME_3',\n",
      "       'VARNAME_3', 'NL_NAME_3', 'HASC_3', 'CC_3', 'TYPE_3', 'ENGTYPE_3',\n",
      "       'VALIDFR_3', 'VALIDTO_3', 'REMARKS_3', 'GID_4', 'ID_4', 'NAME_4',\n",
      "       'VARNAME_4', 'CC_4', 'TYPE_4', 'ENGTYPE_4', 'VALIDFR_4', 'VALIDTO_4',\n",
      "       'REMARKS_4', 'GID_5', 'ID_5', 'NAME_5', 'CC_5', 'TYPE_5', 'ENGTYPE_5',\n",
      "       'REGION', 'VARREGION', 'zone', 'geometry'],\n",
      "      dtype='object')\n"
     ]
    }
   ],
   "source": [
    "print(world.columns)\n",
    "city1 = \"Maastricht\"\n",
    "city1Data = world[world[\"NAME_2\"]==city1]\n",
    "city1Data[[\"NAME_0\", \"NAME_1\",\"NAME_2\",\"geometry\"]]\n",
    "geom1 = city1Data[\"geometry\"]\n",
    "for x in geom1:\n",
    "    coords_list = list(x.geoms[0].exterior.coords)\n",
    "    \n",
    "    pathCode = \"color:0x0000ff80|weight:1|geodesic:true|fillcolor:0x0000ff80\"\n",
    "    for lat,long in coords_list:\n",
    "        pathCode = f\"{pathCode}|{long},{lat}\"\n",
    "# print(pathCode)"
   ]
  },
  {
   "cell_type": "code",
   "execution_count": 102,
   "metadata": {},
   "outputs": [],
   "source": [
    "location = \"Maastricht, NL\"\n",
    "citymap = staticmap(location, path=pathCode, zoom=11)\n",
    "\n",
    "with open(\"citymap.png\", \"wb\") as f:\n",
    "    f.write(citymap)\n",
    "# plt.imshow(citymap)"
   ]
  },
  {
   "cell_type": "code",
   "execution_count": 79,
   "metadata": {},
   "outputs": [],
   "source": []
  }
 ],
 "metadata": {
  "kernelspec": {
   "display_name": "Python 3",
   "language": "python",
   "name": "python3"
  },
  "language_info": {
   "codemirror_mode": {
    "name": "ipython",
    "version": 3
   },
   "file_extension": ".py",
   "mimetype": "text/x-python",
   "name": "python",
   "nbconvert_exporter": "python",
   "pygments_lexer": "ipython3",
   "version": "3.6.8"
  }
 },
 "nbformat": 4,
 "nbformat_minor": 2
}
