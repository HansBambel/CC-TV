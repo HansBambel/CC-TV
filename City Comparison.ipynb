{
 "cells": [
  {
   "cell_type": "code",
   "execution_count": 12,
   "metadata": {},
   "outputs": [],
   "source": [
    "import geopandas\n",
    "import urllib\n",
    "import shapely\n",
    "import matplotlib.pyplot as plt\n",
    "from math import sin, cos, sqrt, atan2, radians\n",
    "import json\n",
    "from PIL import Image\n",
    "from dotenv import load_dotenv\n",
    "import os\n",
    "import pandas as pd\n",
    "\n",
    "load_dotenv()\n",
    "\n",
    "def getDistance(lat1, lon1, lat2, lon2):\n",
    "    R = 6373.0\n",
    "    lat1 = radians(lat1)\n",
    "    lon1 = radians(lon1)\n",
    "    lat2 = radians(lat2)\n",
    "    lon2 = radians(lon2)\n",
    "\n",
    "    dlon = lon2 - lon1\n",
    "    dlat = lat2 - lat1\n",
    "\n",
    "    a = sin(dlat / 2)**2 + cos(lat1) * cos(lat2) * sin(dlon / 2)**2\n",
    "    c = 2 * atan2(sqrt(a), sqrt(1 - a))\n",
    "\n",
    "    distance = R * c\n",
    "    return distance\n",
    "\n",
    "def getCitySize(cityBounds):\n",
    "    lat1, lon1, lat2, lon2 = cityBounds\n",
    "    return getDistance(lat1, lon1, lat2, lon2)"
   ]
  },
  {
   "cell_type": "markdown",
   "metadata": {},
   "source": [
    "## Using Google Maps and GADM database"
   ]
  },
  {
   "cell_type": "code",
   "execution_count": 2,
   "metadata": {},
   "outputs": [
    {
     "name": "stdout",
     "output_type": "stream",
     "text": [
      "Index(['UID', 'GID_0', 'ID_0', 'NAME_0', 'GID_1', 'ID_1', 'NAME_1',\n",
      "       'VARNAME_1', 'NL_NAME_1', 'HASC_1', 'CC_1', 'TYPE_1', 'ENGTYPE_1',\n",
      "       'VALIDFR_1', 'VALIDTO_1', 'REMARKS_1', 'GID_2', 'ID_2', 'NAME_2',\n",
      "       'VARNAME_2', 'NL_NAME_2', 'HASC_2', 'CC_2', 'TYPE_2', 'ENGTYPE_2',\n",
      "       'VALIDFR_2', 'VALIDTO_2', 'REMARKS_2', 'GID_3', 'ID_3', 'NAME_3',\n",
      "       'VARNAME_3', 'NL_NAME_3', 'HASC_3', 'CC_3', 'TYPE_3', 'ENGTYPE_3',\n",
      "       'VALIDFR_3', 'VALIDTO_3', 'REMARKS_3', 'GID_4', 'ID_4', 'NAME_4',\n",
      "       'VARNAME_4', 'CC_4', 'TYPE_4', 'ENGTYPE_4', 'VALIDFR_4', 'VALIDTO_4',\n",
      "       'REMARKS_4', 'GID_5', 'ID_5', 'NAME_5', 'CC_5', 'TYPE_5', 'ENGTYPE_5',\n",
      "       'REGION', 'VARREGION', 'zone', 'geometry'],\n",
      "      dtype='object')\n"
     ]
    }
   ],
   "source": [
    "world = geopandas.read_file(\"gadm36.gpkg\")\n",
    "print(world.columns)"
   ]
  },
  {
   "cell_type": "code",
   "execution_count": 57,
   "metadata": {},
   "outputs": [],
   "source": [
    "def googleMap(outline, size=\"500x400\", maptype=\"terrain\", scale=2, zoom=10):\n",
    "    maps_key = os.getenv(\"GOOGLE_MAPS_API\")\n",
    "    staticmap_base_url = 'https://maps.googleapis.com/maps/api/staticmap'\n",
    "    \n",
    "    # Get the city's name if given such as \"Maastricht, NL\"\n",
    "    city = location.split(\",\")[0]\n",
    "#     cityData = world[world[\"NAME_2\"]==city]\n",
    "    \n",
    "#     print(cityData[[\"NAME_0\", \"NAME_1\",\"NAME_2\",\"NAME_3\",\"geometry\"]])\n",
    "#     for x in cityData[\"geometry\"]:\n",
    "    tolerance = 0.0001\n",
    "    pathTooLong = True\n",
    "    while pathTooLong:\n",
    "        if isinstance(outline, shapely.geometry.Polygon):\n",
    "            coords_list = list(outline.exterior.coords)\n",
    "        elif isinstance(outline, shapely.geometry.MultiPolygon):\n",
    "            coords_list = list(outline.geoms[0].exterior.coords)\n",
    "        else:\n",
    "            print(\"Outline not a shape\")\n",
    "\n",
    "        pathCode = \"color:0x0000ff80|weight:1|geodesic:true|fillcolor:0x0000ff80\"\n",
    "        for lat,long in coords_list:\n",
    "            pathCode = f\"{pathCode}|{long},{lat}\"\n",
    "#             print(\"PathCode length\",len(pathCode))\n",
    "\n",
    "        # Instead of zoom or center give marker of top left and bottom right (x.bounds)\n",
    "        # Then image fits perfectly\n",
    "        lat1, long1, lat2, long2 = x.bounds\n",
    "        distance = getDistance(lat1, long1, lat2, long2)\n",
    "#             markerCode = f\"size:tiny|{x.bounds[3]},{x.bounds[0]}|{x.bounds[1]},{x.bounds[2]}\"\n",
    "        markerCode = f\"size:tiny|{long2},{lat1}|{long1},{lat2}\"\n",
    "\n",
    "        # This joins the parts of the URL together into one string.\n",
    "        url = staticmap_base_url + '?' + urllib.parse.urlencode({\n",
    "            \"center\": location,\n",
    "            \"size\": size,\n",
    "            \"maptype\": maptype,\n",
    "            \"scale\": scale,\n",
    "#                 \"zoom\": zoom,\n",
    "            \"key\": maps_key,\n",
    "            \"markers\": markerCode,\n",
    "            \"path\": pathCode\n",
    "        })\n",
    "        # URLs for all web services are limited to 8192 characters!!\n",
    "        if len(url) > 8192:\n",
    "            tolerance += 0.0001\n",
    "            x = x.simplify(tolerance, preserve_topology=False)\n",
    "        else:\n",
    "            pathTooLong = False\n",
    "\n",
    "#             print(\"URL length: \",len(url))\n",
    "    \n",
    "    image = urllib.request.urlopen(url).read()\n",
    "    return image, distance\n",
    "\n",
    "\n",
    "def getGoogleBackgroundMap(cityBounds, size=\"500x500\", maptype=\"terrain\", scale=2):\n",
    "    maps_key = os.getenv(\"GOOGLE_MAPS_API\")\n",
    "    staticmap_base_url = 'https://maps.googleapis.com/maps/api/staticmap'\n",
    "    \n",
    "    topLeftLat, topLeftLong, botRightLat, botRightLong = cityBounds\n",
    "    pathCode = f\"color:0x0000ff00|{botRightLong},{topLeftLat}|{topLeftLong},{botRightLat}\"\n",
    "    \n",
    "    url = staticmap_base_url + '?' + urllib.parse.urlencode({\n",
    "                \"size\": size,\n",
    "                \"maptype\": maptype,\n",
    "                \"scale\": scale,\n",
    "                \"key\": maps_key,\n",
    "                \"path\": pathCode\n",
    "            })\n",
    "    image = urllib.request.urlopen(url).read()\n",
    "    return image"
   ]
  },
  {
   "cell_type": "code",
   "execution_count": 47,
   "metadata": {
    "scrolled": false
   },
   "outputs": [
    {
     "name": "stdout",
     "output_type": "stream",
     "text": [
      "                                            geometry\n",
      "0  POLYGON ((13.08835 52.41963, 13.09021 52.41355...\n",
      "1  POLYGON ((13.50344 52.61899, 13.50365 52.61909...\n"
     ]
    }
   ],
   "source": [
    "location = \"Berlin, Germany\"\n",
    "outline, bounds = getCityOutline(location)\n",
    "print(outline)\n",
    "\n",
    "# plt.imshow(citymap)"
   ]
  },
  {
   "cell_type": "code",
   "execution_count": 50,
   "metadata": {},
   "outputs": [
    {
     "name": "stdout",
     "output_type": "stream",
     "text": [
      "Outline not a shape\n"
     ]
    },
    {
     "ename": "UnboundLocalError",
     "evalue": "local variable 'coords_list' referenced before assignment",
     "output_type": "error",
     "traceback": [
      "\u001b[1;31m---------------------------------------------------------------------------\u001b[0m",
      "\u001b[1;31mUnboundLocalError\u001b[0m                         Traceback (most recent call last)",
      "\u001b[1;32m<ipython-input-50-125ff0434944>\u001b[0m in \u001b[0;36m<module>\u001b[1;34m\u001b[0m\n\u001b[0;32m      1\u001b[0m \u001b[0moutline\u001b[0m\u001b[1;33m\u001b[0m\u001b[1;33m\u001b[0m\u001b[0m\n\u001b[1;32m----> 2\u001b[1;33m \u001b[0mcitymap\u001b[0m\u001b[1;33m,\u001b[0m \u001b[0mdistance\u001b[0m \u001b[1;33m=\u001b[0m \u001b[0mgoogleMap\u001b[0m\u001b[1;33m(\u001b[0m\u001b[0moutline\u001b[0m\u001b[1;33m[\u001b[0m\u001b[1;34m\"geometry\"\u001b[0m\u001b[1;33m]\u001b[0m\u001b[1;33m)\u001b[0m\u001b[1;33m\u001b[0m\u001b[1;33m\u001b[0m\u001b[0m\n\u001b[0m\u001b[0;32m      3\u001b[0m \u001b[0mprint\u001b[0m\u001b[1;33m(\u001b[0m\u001b[1;34m\"Distance\"\u001b[0m\u001b[1;33m,\u001b[0m \u001b[0mdistance\u001b[0m\u001b[1;33m)\u001b[0m\u001b[1;33m\u001b[0m\u001b[1;33m\u001b[0m\u001b[0m\n\u001b[0;32m      4\u001b[0m \u001b[1;32mwith\u001b[0m \u001b[0mopen\u001b[0m\u001b[1;33m(\u001b[0m\u001b[1;34m\"citymap.png\"\u001b[0m\u001b[1;33m,\u001b[0m \u001b[1;34m\"wb\"\u001b[0m\u001b[1;33m)\u001b[0m \u001b[1;32mas\u001b[0m \u001b[0mf\u001b[0m\u001b[1;33m:\u001b[0m\u001b[1;33m\u001b[0m\u001b[1;33m\u001b[0m\u001b[0m\n\u001b[0;32m      5\u001b[0m     \u001b[0mf\u001b[0m\u001b[1;33m.\u001b[0m\u001b[0mwrite\u001b[0m\u001b[1;33m(\u001b[0m\u001b[0mcitymap\u001b[0m\u001b[1;33m)\u001b[0m\u001b[1;33m\u001b[0m\u001b[1;33m\u001b[0m\u001b[0m\n",
      "\u001b[1;32m<ipython-input-49-7ae93b31e0f7>\u001b[0m in \u001b[0;36mgoogleMap\u001b[1;34m(outline, size, maptype, scale, zoom)\u001b[0m\n\u001b[0;32m     20\u001b[0m \u001b[1;33m\u001b[0m\u001b[0m\n\u001b[0;32m     21\u001b[0m         \u001b[0mpathCode\u001b[0m \u001b[1;33m=\u001b[0m \u001b[1;34m\"color:0x0000ff80|weight:1|geodesic:true|fillcolor:0x0000ff80\"\u001b[0m\u001b[1;33m\u001b[0m\u001b[1;33m\u001b[0m\u001b[0m\n\u001b[1;32m---> 22\u001b[1;33m         \u001b[1;32mfor\u001b[0m \u001b[0mlat\u001b[0m\u001b[1;33m,\u001b[0m\u001b[0mlong\u001b[0m \u001b[1;32min\u001b[0m \u001b[0mcoords_list\u001b[0m\u001b[1;33m:\u001b[0m\u001b[1;33m\u001b[0m\u001b[1;33m\u001b[0m\u001b[0m\n\u001b[0m\u001b[0;32m     23\u001b[0m             \u001b[0mpathCode\u001b[0m \u001b[1;33m=\u001b[0m \u001b[1;34mf\"{pathCode}|{long},{lat}\"\u001b[0m\u001b[1;33m\u001b[0m\u001b[1;33m\u001b[0m\u001b[0m\n\u001b[0;32m     24\u001b[0m \u001b[1;31m#             print(\"PathCode length\",len(pathCode))\u001b[0m\u001b[1;33m\u001b[0m\u001b[1;33m\u001b[0m\u001b[1;33m\u001b[0m\u001b[0m\n",
      "\u001b[1;31mUnboundLocalError\u001b[0m: local variable 'coords_list' referenced before assignment"
     ]
    }
   ],
   "source": [
    "outline\n",
    "citymap, distance = googleMap(outline[\"geometry\"])\n",
    "print(\"Distance\", distance)\n",
    "with open(\"citymap.png\", \"wb\") as f:\n",
    "    f.write(citymap)"
   ]
  },
  {
   "cell_type": "markdown",
   "metadata": {},
   "source": [
    "## Use OpenStreetMap API"
   ]
  },
  {
   "cell_type": "code",
   "execution_count": 51,
   "metadata": {},
   "outputs": [],
   "source": [
    "def getCityOutline(query: str):\n",
    "    openStreetMap_base_url = \"https://nominatim.openstreetmap.org/search\"\n",
    "    url = openStreetMap_base_url + '?' + urllib.parse.urlencode({\n",
    "        \"q\": query,\n",
    "        \"format\": \"json\",\n",
    "        \"polygon_geojson\": 1\n",
    "    })\n",
    "\n",
    "    response = urllib.request.urlopen(url).read()\n",
    "    responseJson = json.loads(response)\n",
    "\n",
    "    # find first multipolygon/polygon result (most likely the correct one)\n",
    "    for shape in responseJson:\n",
    "        if isinstance(shapely.geometry.shape(shape[\"geojson\"]), shapely.geometry.MultiPolygon):\n",
    "            cityShape = shapely.geometry.shape(shape[\"geojson\"])\n",
    "            lat1, long1, lat2, long2 = cityShape.bounds\n",
    "            bounds = [lat1, long1, lat2, long2]\n",
    "#             distance = getDistance(lat1, long1, lat2, long2)\n",
    "            cityGDF = geopandas.GeoDataFrame({\n",
    "                \"geometry\": cityShape\n",
    "            })\n",
    "            return cityGDF, bounds\n",
    "        elif isinstance(shapely.geometry.shape(shape[\"geojson\"]), shapely.geometry.Polygon):\n",
    "            cityShape = shapely.geometry.shape(shape[\"geojson\"])\n",
    "            lat1, long1, lat2, long2 = cityShape.bounds\n",
    "            bounds = [lat1, long1, lat2, long2]\n",
    "#             distance = getDistance(lat1, long1, lat2, long2)\n",
    "            cityGDF = geopandas.GeoDataFrame({\n",
    "                \"geometry\": cityShape\n",
    "            }, index=[0])\n",
    "            return cityGDF, bounds\n",
    "    # If nothing found return None\n",
    "    return None, None\n",
    "\n",
    "\n",
    "def combineMapAndOverlay(googleMapFile, cityOverlayFile):\n",
    "    googleMap = Image.open(googleMapFile)\n",
    "    gmWidth, gmHeight = googleMap.size\n",
    "    cityOverlay = Image.open(cityOverlayFile)\n",
    "    cityWidth,cityHeight = cityOverlay.size\n",
    "    # Put overlay in the center\n",
    "    gmWidth = int(gmWidth / 2)\n",
    "    gmHeight = int(gmHeight / 2)\n",
    "    topLeftX = gmWidth - int(cityWidth / 2)\n",
    "    topLeftY = gmHeight - int(cityHeight / 2)\n",
    "    botRightX = gmWidth + (cityWidth - int(cityWidth / 2))\n",
    "    botRightY = gmHeight + (cityHeight - int(cityHeight / 2))\n",
    "    \n",
    "    googleMap.paste(cityOverlay, (topLeftX, topLeftY, botRightX, botRightY), mask=cityOverlay)\n",
    "    googleMap.save(\"static/images/OverlayWithMaps.png\", \"png\")\n",
    "    \n",
    "\n",
    "\n",
    "def overlayCities(city1, city1Bounds, city2, city2Bounds):\n",
    "    size1 = getCitySize(city1Bounds)\n",
    "    size2 = getCitySize(city2Bounds)\n",
    "    if size1 > size2:\n",
    "        bigCity = city1\n",
    "        bigSize = size1\n",
    "        bigCityBounds = city1Bounds\n",
    "        smallCity = city2\n",
    "        smallSize = size2\n",
    "    else:\n",
    "        bigCity = city2\n",
    "        bigSize = size2\n",
    "        bigCityBounds = city2Bounds\n",
    "        smallCity = city1\n",
    "        smallSize = size1\n",
    "    # Save the cities as images\n",
    "    bigCity.plot(color=\"red\")\n",
    "    plt.axis(\"off\")\n",
    "    plt.savefig(\"static/images/BigCity.png\", transparent=True)\n",
    "    plt.close()\n",
    "    smallCity.plot(alpha=0.7)\n",
    "    plt.axis(\"off\")\n",
    "    plt.savefig(\"static/images/SmallCity.png\", transparent=True)\n",
    "    plt.close()\n",
    "    # Get google Maps background of bigger city\n",
    "    bigCityGooglemap = getGoogleBackgroundMap(bigCityBounds)\n",
    "    with open(\"static/images/bigCityGooglemap.png\", \"wb\") as f:\n",
    "        f.write(bigCityGooglemap)\n",
    "    \n",
    "    # Load images with Pillow\n",
    "    bigCityIm = Image.open(\"static/images/BigCity.png\")\n",
    "    # Load google Maps background of bigger city and put overlay on top of it\n",
    "    \n",
    "    smallCityIm = Image.open(\"static/images/SmallCity.png\")\n",
    "    oldWidth, oldHeight = smallCityIm.size\n",
    "    newWidth = int(oldWidth * smallSize / bigSize)\n",
    "    newHeight = int(oldHeight * smallSize / bigSize)\n",
    "    # Scale down the smaller city\n",
    "    smallCityImScaled = smallCityIm.resize((newWidth, newHeight))\n",
    "    # Find center of bigger city\n",
    "    bigCityWidth, bigCityHeight = bigCityIm.size\n",
    "    bigCenterW = int(bigCityWidth / 2)\n",
    "    bigCenterH = int(bigCityHeight / 2)\n",
    "    topLeftX = bigCenterW - int(newWidth / 2)\n",
    "    topLeftY = bigCenterH - int(newHeight / 2)\n",
    "    botRightX = bigCenterW + (newWidth - int(newWidth / 2))\n",
    "    botRightY = bigCenterH + (newHeight - int(newHeight / 2))\n",
    "    # Paste the small city onto the bigger one (the mask key-word reserves the transparency of the png)\n",
    "    bigCityIm.paste(smallCityImScaled, (topLeftX, topLeftY, botRightX, botRightY), mask=smallCityImScaled)\n",
    "    bigCityIm.save(\"static/images/Overlay.png\", \"png\")\n",
    "    #     bigCityIm.show()\n",
    "    return bigCityIm"
   ]
  },
  {
   "cell_type": "code",
   "execution_count": 58,
   "metadata": {},
   "outputs": [],
   "source": [
    "city1Query = \"Berlin, Germany\"\n",
    "city2Query = \"Maastricht, Netherlands\"\n",
    "city1, bounds1 = getCityOutline(city1Query)\n",
    "city2, bounds2 = getCityOutline(city2Query)\n"
   ]
  },
  {
   "cell_type": "code",
   "execution_count": 59,
   "metadata": {},
   "outputs": [
    {
     "name": "stdout",
     "output_type": "stream",
     "text": [
      "Diagonal size of Berlin, Germany: 83.25874486198076\n",
      "Diagonal size of Maastricht, Netherlands: 18.270753487243397\n"
     ]
    }
   ],
   "source": [
    "overlay = overlayCities(city1, bounds1, city2, bounds2)\n",
    "overlay.show()\n",
    "print(f\"Diagonal size of {city1Query}: {getCitySize(bounds1)}\")\n",
    "print(f\"Diagonal size of {city2Query}: {getCitySize(bounds2)}\")"
   ]
  },
  {
   "cell_type": "code",
   "execution_count": 60,
   "metadata": {},
   "outputs": [],
   "source": [
    "combineMapAndOverlay(\"static/images/bigCityGooglemap.png\",\"static/images/BigCity.png\")"
   ]
  },
  {
   "cell_type": "code",
   "execution_count": null,
   "metadata": {},
   "outputs": [],
   "source": []
  }
 ],
 "metadata": {
  "kernelspec": {
   "display_name": "Python 3",
   "language": "python",
   "name": "python3"
  },
  "language_info": {
   "codemirror_mode": {
    "name": "ipython",
    "version": 3
   },
   "file_extension": ".py",
   "mimetype": "text/x-python",
   "name": "python",
   "nbconvert_exporter": "python",
   "pygments_lexer": "ipython3",
   "version": "3.6.8"
  }
 },
 "nbformat": 4,
 "nbformat_minor": 2
}
