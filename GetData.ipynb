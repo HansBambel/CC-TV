{
 "cells": [
  {
   "cell_type": "code",
   "execution_count": 2,
   "metadata": {},
   "outputs": [
    {
     "data": {
      "text/plain": [
       "True"
      ]
     },
     "execution_count": 2,
     "metadata": {},
     "output_type": "execute_result"
    }
   ],
   "source": [
    "import geopandas\n",
    "import urllib\n",
    "import shapely\n",
    "import matplotlib.pyplot as plt\n",
    "from math import sin, cos, sqrt, atan2, radians\n",
    "import json\n",
    "from PIL import Image\n",
    "from dotenv import load_dotenv\n",
    "import os\n",
    "import pandas as pd\n",
    "from tqdm import tqdm_notebook\n",
    "import time\n",
    "\n",
    "load_dotenv()"
   ]
  },
  {
   "cell_type": "code",
   "execution_count": 8,
   "metadata": {},
   "outputs": [],
   "source": [
    "def getDistance(lat1, lon1, lat2, lon2):\n",
    "    R = 6373.0\n",
    "    lat1 = radians(lat1)\n",
    "    lon1 = radians(lon1)\n",
    "    lat2 = radians(lat2)\n",
    "    lon2 = radians(lon2)\n",
    "\n",
    "    dlon = lon2 - lon1\n",
    "    dlat = lat2 - lat1\n",
    "\n",
    "    a = sin(dlat / 2)**2 + cos(lat1) * cos(lat2) * sin(dlon / 2)**2\n",
    "    c = 2 * atan2(sqrt(a), sqrt(1 - a))\n",
    "\n",
    "    distance = R * c\n",
    "    return distance\n",
    "\n",
    "def getCitySize(cityBounds):\n",
    "    lat1, lon1, lat2, lon2 = cityBounds\n",
    "    return getDistance(lat1, lon1, lat2, lon2)\n",
    "\n",
    "def getGoogleBackgroundMap(cityBounds, size=\"500x500\", maptype=\"terrain\", scale=2):\n",
    "    maps_key = os.getenv(\"GOOGLE_MAPS_API\")\n",
    "    staticmap_base_url = 'https://maps.googleapis.com/maps/api/staticmap'\n",
    "    \n",
    "    topLeftLat, topLeftLong, botRightLat, botRightLong = cityBounds\n",
    "    pathCode = f\"color:0x0000ff00|{botRightLong},{topLeftLat}|{topLeftLong},{botRightLat}\"\n",
    "    \n",
    "    url = staticmap_base_url + '?' + urllib.parse.urlencode({\n",
    "                \"size\": size,\n",
    "                \"maptype\": maptype,\n",
    "                \"scale\": scale,\n",
    "                \"key\": maps_key,\n",
    "                \"path\": pathCode\n",
    "            })\n",
    "    image = urllib.request.urlopen(url).read()\n",
    "    return image\n",
    "\n",
    "def getCityOutline(query: str):\n",
    "    openStreetMap_base_url = \"https://nominatim.openstreetmap.org/search\"\n",
    "    url = openStreetMap_base_url + '?' + urllib.parse.urlencode({\n",
    "        \"q\": query,\n",
    "        \"format\": \"json\",\n",
    "        \"polygon_geojson\": 1\n",
    "    })\n",
    "\n",
    "    response = urllib.request.urlopen(url).read()\n",
    "    responseJson = json.loads(response)\n",
    "\n",
    "    # find first multipolygon/polygon result (most likely the correct one)\n",
    "    for shape in responseJson:\n",
    "        # Included this try if shape has no geojson. Now just goes to next entry\n",
    "        try:\n",
    "            if isinstance(shapely.geometry.shape(shape[\"geojson\"]), shapely.geometry.MultiPolygon):\n",
    "                cityShape = shapely.geometry.shape(shape[\"geojson\"])\n",
    "                lat1, long1, lat2, long2 = cityShape.bounds\n",
    "                bounds = [lat1, long1, lat2, long2]\n",
    "                # check if size is way too big or too small. If so --> kick out\n",
    "                size = getCitySize(bounds)\n",
    "                if size > 200 or size < 5:\n",
    "                    continue\n",
    "                cityGDF = geopandas.GeoDataFrame({\n",
    "                    \"geometry\": cityShape\n",
    "                })\n",
    "                return cityGDF, bounds\n",
    "            elif isinstance(shapely.geometry.shape(shape[\"geojson\"]), shapely.geometry.Polygon):\n",
    "                cityShape = shapely.geometry.shape(shape[\"geojson\"])\n",
    "                lat1, long1, lat2, long2 = cityShape.bounds\n",
    "                bounds = [lat1, long1, lat2, long2]\n",
    "                # check if size is way too big or too small. If so --> kick out\n",
    "                size = getCitySize(bounds)\n",
    "                if size > 200 or size < 5:\n",
    "                    continue\n",
    "                cityGDF = geopandas.GeoDataFrame({\n",
    "                    \"geometry\": cityShape\n",
    "                }, index=[0])\n",
    "                return cityGDF, bounds\n",
    "        except:\n",
    "            continue\n",
    "    # If nothing found return None\n",
    "    return None, None\n",
    "\n",
    "def getGoogleBackgroundMap(cityBounds, size=\"500x500\", maptype=\"satellite\", scale=2):\n",
    "    maps_key = os.getenv(\"GOOGLE_MAPS_API\")\n",
    "    staticmap_base_url = 'https://maps.googleapis.com/maps/api/staticmap'\n",
    "    \n",
    "    topLeftLat, topLeftLong, botRightLat, botRightLong = cityBounds\n",
    "    pathCode = f\"color:0x0000ff00|{botRightLong},{topLeftLat}|{topLeftLong},{botRightLat}\"\n",
    "    \n",
    "    url = staticmap_base_url + '?' + urllib.parse.urlencode({\n",
    "                \"size\": size,\n",
    "                \"maptype\": maptype,\n",
    "                \"scale\": scale,\n",
    "                \"key\": maps_key,\n",
    "                \"path\": pathCode\n",
    "            })\n",
    "    image = urllib.request.urlopen(url).read()\n",
    "    return image\n",
    "\n",
    "def getImages(query: str):\n",
    "    # Get outline from openstreetmaps and save in outline-folder\n",
    "    queryFilename = query.replace(\", \",\"_\")\n",
    "    queryFilename = queryFilename.replace(\",\",\"_\")\n",
    "    # Use cached geodata if available\n",
    "    if os.path.exists(f\"data/json/{queryFilename}.geojson\"):\n",
    "#         with open(f\"data/json/{queryFilename}.geojson\", \"rb\") as f:\n",
    "        cityShape = geopandas.read_file(f\"data/json/{queryFilename}.geojson\", driver='GeoJSON')\n",
    "        bounds = cityShape[\"geometry\"].bounds\n",
    "    else:\n",
    "        cityShape, bounds = getCityOutline(query)\n",
    "        \n",
    "    if cityShape is None:\n",
    "        return False\n",
    "    # Save\n",
    "    cityShape.to_file(f\"data/json/{queryFilename}.geojson\", driver='GeoJSON')\n",
    "    cityShape.plot()\n",
    "    plt.axis(\"off\")\n",
    "    plt.savefig(f\"data/outlines/outline_{queryFilename}.png\", transparent=True)\n",
    "    plt.close()\n",
    "    \n",
    "    # use google maps with , but invisible ink (satellite) and save in sat-image folder \n",
    "    sat_im = getGoogleBackgroundMap(bounds)\n",
    "    with open(f\"data/sat_images/sat_{queryFilename}.png\", \"wb\") as f:\n",
    "        f.write(sat_im)\n",
    "    # save them accordingly\n",
    "    return True"
   ]
  },
  {
   "cell_type": "code",
   "execution_count": 6,
   "metadata": {},
   "outputs": [],
   "source": [
    "# Load simplemaps data and get cities\n",
    "cityData = pd.read_excel(\"data/worldcities.xlsx\")\n"
   ]
  },
  {
   "cell_type": "code",
   "execution_count": 10,
   "metadata": {},
   "outputs": [
    {
     "name": "stdout",
     "output_type": "stream",
     "text": [
      "Index(['city', 'city_ascii', 'lat', 'lng', 'country', 'iso2', 'iso3',\n",
      "       'admin_name', 'capital', 'population', 'id'],\n",
      "      dtype='object')\n"
     ]
    },
    {
     "data": {
      "application/vnd.jupyter.widget-view+json": {
       "model_id": "f2e7be9397bb404bb4a48febb5b6a864",
       "version_major": 2,
       "version_minor": 0
      },
      "text/plain": [
       "HBox(children=(IntProgress(value=0, max=974), HTML(value='')))"
      ]
     },
     "metadata": {},
     "output_type": "display_data"
    },
    {
     "name": "stdout",
     "output_type": "stream",
     "text": [
      "\n",
      "Successful images loaded: 693 from 974 (71.15%)\n"
     ]
    }
   ],
   "source": [
    "# Loop over the cities\n",
    "# No need to load duplicates\n",
    "print(cityData.columns)\n",
    "highPopCities = cityData[cityData[\"population\"]> 500000][[\"city_ascii\",\"country\"]]\n",
    "# print(highPopCities)\n",
    "countSuccessfull = 0\n",
    "for i, cityInd in tqdm_notebook(highPopCities.iterrows(), total=highPopCities.shape[0]):\n",
    "    query = \",\".join(cityInd.values)\n",
    "    queryFilename = \"_\".join(cityInd.values)\n",
    "\n",
    "    # check if already exists. If yes --> skip\n",
    "    if os.path.exists(f\"data/outlines/outline_{queryFilename}.png\"):\n",
    "        continue\n",
    "    else:\n",
    "        if getImages(query):\n",
    "            countSuccessfull += 1\n",
    "    # Sleep for a second to not get banned from OpenStreetmaps\n",
    "    time.sleep(1)\n",
    "    \n",
    "print(f\"Successful images loaded: {countSuccessfull} from {highPopCities.shape[0]} ({countSuccessfull/highPopCities.shape[0]*100:5.2f}%)\")"
   ]
  },
  {
   "cell_type": "markdown",
   "metadata": {},
   "source": [
    "## Combine overlay and satellite image"
   ]
  },
  {
   "cell_type": "code",
   "execution_count": 29,
   "metadata": {},
   "outputs": [
    {
     "data": {
      "application/vnd.jupyter.widget-view+json": {
       "model_id": "1be23b1ab3bc4d16928ac347091896de",
       "version_major": 2,
       "version_minor": 0
      },
      "text/plain": [
       "HBox(children=(IntProgress(value=0, max=693), HTML(value='')))"
      ]
     },
     "metadata": {},
     "output_type": "display_data"
    },
    {
     "name": "stdout",
     "output_type": "stream",
     "text": [
      "\n"
     ]
    }
   ],
   "source": [
    "# Combine outline with map by centering outline in the middle of the map\n",
    "satImages = os.listdir(\"data/sat_images\")\n",
    "for im in tqdm_notebook(satImages):\n",
    "    placeName = im.split(\"sat_\")[1]\n",
    "    # load images\n",
    "    satIm = Image.open(f\"data/sat_images/sat_{placeName}\")\n",
    "    outlineIm = Image.open(f\"data/outlines/outline_{placeName}\")\n",
    "    satWidth, satHeight = satIm.size\n",
    "    outlineWidthOld, outlineHeightOld = outlineIm.size\n",
    "    # Scale the outline by a factor\n",
    "    factor = 3.5\n",
    "    outlineIm = outlineIm.resize((int(factor*outlineWidthOld), int(factor*outlineHeightOld)))\n",
    "    outlineWidth, outlineHeight = outlineIm.size\n",
    "    # Save mask\n",
    "    outlineIm.save(f\"data/masks/mask_{placeName}\", \"png\")\n",
    "    \n",
    "    \n",
    "    satCenterW = int(satWidth / 2)\n",
    "    satCenterH = int(satHeight / 2)\n",
    "    topLeftX = satCenterW - int(outlineWidth / 2)\n",
    "    topLeftY = satCenterH - int(outlineHeight / 2)\n",
    "    botRightX = satCenterW + (outlineWidth - int(outlineWidth / 2))\n",
    "    botRightY = satCenterH + (outlineHeight - int(outlineHeight / 2))\n",
    "    # Paste the small city onto the bigger one (the mask key-word reserves the transparency of the png)\n",
    "    satIm.paste(outlineIm, (topLeftX, topLeftY, botRightX, botRightY), mask=outlineIm)\n",
    "    satIm.save(f\"data/combined/combined_{placeName}\", \"png\")\n",
    "#     break"
   ]
  },
  {
   "cell_type": "markdown",
   "metadata": {},
   "source": [
    "## Create masks (need to be of same shape than the sat images, 1000x1000)\n",
    "### TODO instead of middle area check where the first non-zero values are and cut from there"
   ]
  },
  {
   "cell_type": "code",
   "execution_count": 36,
   "metadata": {},
   "outputs": [],
   "source": [
    "outlines = os.listdir(\"data/outlines\")\n",
    "for im in tqdm_notebook(outlines):\n",
    "    placeName = im.split(\"outline_\")[1]\n",
    "    outlineIm = Image.open(f\"data/outlines/outline_{placeName}\")\n",
    "    outlineWidthOld, outlineHeightOld = outlineIm.size\n",
    "    # left, up, right, bot\n",
    "    # crop middle area (to be square)\n",
    "    # TODO instead of middle area check where the first non-zero values are and cut from there\n",
    "    shift = int((outlineWidthOld-outlineHeightOld)/2)\n",
    "    area = (shift, 0, outlineWidthOld-shift, outlineHeightOld)\n",
    "    cropped = outlineIm.crop(area)\n",
    "    # Scale to 1000x1000 pixels (like google image)\n",
    "    factor = 1000/outlineHeightOld\n",
    "    scaled = cropped.resize((int(factor*outlineHeightOld), int(factor*outlineHeightOld)))\n",
    "    scaled.save(f\"data/cropped_outlines/cropped_{placeName}\")\n"
   ]
  }
 ],
 "metadata": {
  "kernelspec": {
   "display_name": "Python 3",
   "language": "python",
   "name": "python3"
  },
  "language_info": {
   "codemirror_mode": {
    "name": "ipython",
    "version": 3
   },
   "file_extension": ".py",
   "mimetype": "text/x-python",
   "name": "python",
   "nbconvert_exporter": "python",
   "pygments_lexer": "ipython3",
   "version": "3.6.8"
  }
 },
 "nbformat": 4,
 "nbformat_minor": 2
}
